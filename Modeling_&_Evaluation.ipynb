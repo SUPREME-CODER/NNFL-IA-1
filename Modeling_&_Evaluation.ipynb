{
  "nbformat": 4,
  "nbformat_minor": 0,
  "metadata": {
    "colab": {
      "name": "Modeling & Evaluation.ipynb",
      "provenance": [],
      "mount_file_id": "13CtzD2MTWsA-k_aHeotCCux8zW4K1h3V",
      "authorship_tag": "ABX9TyMRd/OJmgjN3ZQlOXcZMDWV",
      "include_colab_link": true
    },
    "kernelspec": {
      "name": "python3",
      "display_name": "Python 3"
    },
    "accelerator": "GPU"
  },
  "cells": [
    {
      "cell_type": "markdown",
      "metadata": {
        "id": "view-in-github",
        "colab_type": "text"
      },
      "source": [
        "<a href=\"https://colab.research.google.com/github/SUPREME-CODER/NNFL-IA-1/blob/master/Modeling_%26_Evaluation.ipynb\" target=\"_parent\"><img src=\"https://colab.research.google.com/assets/colab-badge.svg\" alt=\"Open In Colab\"/></a>"
      ]
    },
    {
      "cell_type": "code",
      "metadata": {
        "id": "GsZq7g8vO2PC",
        "colab_type": "code",
        "colab": {}
      },
      "source": [
        "import pandas as pd\n",
        "import numpy as np\n",
        "import matplotlib.pyplot as plt\n",
        "import seaborn as sns\n",
        "from keras import regularizers\n",
        "from keras.models import Sequential\n",
        "from keras.layers import Dense\n",
        "from sklearn.model_selection import train_test_split, cross_val_score\n",
        "from sklearn.metrics import accuracy_score, recall_score, roc_auc_score, matthews_corrcoef\n",
        "from sklearn.preprocessing import StandardScaler\n",
        "import graphs\n",
        "from metrics import binary_classification_summary, confusion_matrix_dataframe\n",
        "from metrics import specificity\n",
        "\n",
        "%matplotlib inline\n",
        "np.random.seed(42)"
      ],
      "execution_count": 0,
      "outputs": []
    },
    {
      "cell_type": "code",
      "metadata": {
        "id": "pZAvcibGO4Gs",
        "colab_type": "code",
        "colab": {}
      },
      "source": [
        "pulsar = pd.read_csv(\"/content/drive/My Drive/NNFL IA - 1 Data/pulsar_cleaned.csv\")"
      ],
      "execution_count": 0,
      "outputs": []
    },
    {
      "cell_type": "code",
      "metadata": {
        "id": "5SCYghi2QdXx",
        "colab_type": "code",
        "colab": {
          "base_uri": "https://localhost:8080/",
          "height": 195
        },
        "outputId": "9851ca3b-8715-4c8d-d1d0-4c4a90130f1a"
      },
      "source": [
        "pulsar.head()"
      ],
      "execution_count": 12,
      "outputs": [
        {
          "output_type": "execute_result",
          "data": {
            "text/html": [
              "<div>\n",
              "<style scoped>\n",
              "    .dataframe tbody tr th:only-of-type {\n",
              "        vertical-align: middle;\n",
              "    }\n",
              "\n",
              "    .dataframe tbody tr th {\n",
              "        vertical-align: top;\n",
              "    }\n",
              "\n",
              "    .dataframe thead th {\n",
              "        text-align: right;\n",
              "    }\n",
              "</style>\n",
              "<table border=\"1\" class=\"dataframe\">\n",
              "  <thead>\n",
              "    <tr style=\"text-align: right;\">\n",
              "      <th></th>\n",
              "      <th>mean_ip</th>\n",
              "      <th>sd_ip</th>\n",
              "      <th>ex_kurt_ip</th>\n",
              "      <th>skew_ip</th>\n",
              "      <th>mean_dmsnr</th>\n",
              "      <th>sd_dmsnr</th>\n",
              "      <th>ex_kurt_dmsnr</th>\n",
              "      <th>skew_dmsnr</th>\n",
              "      <th>target_class</th>\n",
              "    </tr>\n",
              "  </thead>\n",
              "  <tbody>\n",
              "    <tr>\n",
              "      <th>0</th>\n",
              "      <td>140.562500</td>\n",
              "      <td>55.683782</td>\n",
              "      <td>-0.234571</td>\n",
              "      <td>-0.699648</td>\n",
              "      <td>3.199833</td>\n",
              "      <td>19.110426</td>\n",
              "      <td>7.975532</td>\n",
              "      <td>74.242225</td>\n",
              "      <td>0</td>\n",
              "    </tr>\n",
              "    <tr>\n",
              "      <th>1</th>\n",
              "      <td>102.507812</td>\n",
              "      <td>58.882430</td>\n",
              "      <td>0.465318</td>\n",
              "      <td>-0.515088</td>\n",
              "      <td>1.677258</td>\n",
              "      <td>14.860146</td>\n",
              "      <td>10.576487</td>\n",
              "      <td>127.393580</td>\n",
              "      <td>0</td>\n",
              "    </tr>\n",
              "    <tr>\n",
              "      <th>2</th>\n",
              "      <td>103.015625</td>\n",
              "      <td>39.341649</td>\n",
              "      <td>0.323328</td>\n",
              "      <td>1.051164</td>\n",
              "      <td>3.121237</td>\n",
              "      <td>21.744669</td>\n",
              "      <td>7.735822</td>\n",
              "      <td>63.171909</td>\n",
              "      <td>0</td>\n",
              "    </tr>\n",
              "    <tr>\n",
              "      <th>3</th>\n",
              "      <td>136.750000</td>\n",
              "      <td>57.178449</td>\n",
              "      <td>-0.068415</td>\n",
              "      <td>-0.636238</td>\n",
              "      <td>3.642977</td>\n",
              "      <td>20.959280</td>\n",
              "      <td>6.896499</td>\n",
              "      <td>53.593661</td>\n",
              "      <td>0</td>\n",
              "    </tr>\n",
              "    <tr>\n",
              "      <th>4</th>\n",
              "      <td>88.726562</td>\n",
              "      <td>40.672225</td>\n",
              "      <td>0.600866</td>\n",
              "      <td>1.123492</td>\n",
              "      <td>1.178930</td>\n",
              "      <td>11.468720</td>\n",
              "      <td>14.269573</td>\n",
              "      <td>252.567306</td>\n",
              "      <td>0</td>\n",
              "    </tr>\n",
              "  </tbody>\n",
              "</table>\n",
              "</div>"
            ],
            "text/plain": [
              "      mean_ip      sd_ip  ex_kurt_ip  ...  ex_kurt_dmsnr  skew_dmsnr  target_class\n",
              "0  140.562500  55.683782   -0.234571  ...       7.975532   74.242225             0\n",
              "1  102.507812  58.882430    0.465318  ...      10.576487  127.393580             0\n",
              "2  103.015625  39.341649    0.323328  ...       7.735822   63.171909             0\n",
              "3  136.750000  57.178449   -0.068415  ...       6.896499   53.593661             0\n",
              "4   88.726562  40.672225    0.600866  ...      14.269573  252.567306             0\n",
              "\n",
              "[5 rows x 9 columns]"
            ]
          },
          "metadata": {
            "tags": []
          },
          "execution_count": 12
        }
      ]
    },
    {
      "cell_type": "code",
      "metadata": {
        "id": "_emy1khnQhOc",
        "colab_type": "code",
        "colab": {
          "base_uri": "https://localhost:8080/",
          "height": 34
        },
        "outputId": "6cf751e7-fbec-4413-d966-a17afb256391"
      },
      "source": [
        "print(f\"The shape of the dataset is: {pulsar.shape}\")"
      ],
      "execution_count": 13,
      "outputs": [
        {
          "output_type": "stream",
          "text": [
            "The shape of the dataset is: (17898, 9)\n"
          ],
          "name": "stdout"
        }
      ]
    },
    {
      "cell_type": "code",
      "metadata": {
        "id": "udUetEj6QjZc",
        "colab_type": "code",
        "colab": {
          "base_uri": "https://localhost:8080/",
          "height": 67
        },
        "outputId": "0275a116-6894-4fcd-b746-a4b04839add5"
      },
      "source": [
        "pulsar.dtypes.value_counts()"
      ],
      "execution_count": 14,
      "outputs": [
        {
          "output_type": "execute_result",
          "data": {
            "text/plain": [
              "float64    8\n",
              "int64      1\n",
              "dtype: int64"
            ]
          },
          "metadata": {
            "tags": []
          },
          "execution_count": 14
        }
      ]
    },
    {
      "cell_type": "code",
      "metadata": {
        "id": "qu4ZotAiQlNa",
        "colab_type": "code",
        "colab": {
          "base_uri": "https://localhost:8080/",
          "height": 185
        },
        "outputId": "647079a1-18fe-41ec-d8dd-ab3001e17853"
      },
      "source": [
        "pulsar.isnull().sum()"
      ],
      "execution_count": 15,
      "outputs": [
        {
          "output_type": "execute_result",
          "data": {
            "text/plain": [
              "mean_ip          0\n",
              "sd_ip            0\n",
              "ex_kurt_ip       0\n",
              "skew_ip          0\n",
              "mean_dmsnr       0\n",
              "sd_dmsnr         0\n",
              "ex_kurt_dmsnr    0\n",
              "skew_dmsnr       0\n",
              "target_class     0\n",
              "dtype: int64"
            ]
          },
          "metadata": {
            "tags": []
          },
          "execution_count": 15
        }
      ]
    },
    {
      "cell_type": "code",
      "metadata": {
        "id": "YcYhCsmjQmfa",
        "colab_type": "code",
        "colab": {
          "base_uri": "https://localhost:8080/",
          "height": 67
        },
        "outputId": "74837617-ac46-4375-d007-544600629e5b"
      },
      "source": [
        "#Establishing the baseline accuracy to know the lower limit of the accuracy we need to achieve.\n",
        "round(pulsar[\"target_class\"].value_counts(normalize = True)*100, 2)"
      ],
      "execution_count": 16,
      "outputs": [
        {
          "output_type": "execute_result",
          "data": {
            "text/plain": [
              "0    90.84\n",
              "1     9.16\n",
              "Name: target_class, dtype: float64"
            ]
          },
          "metadata": {
            "tags": []
          },
          "execution_count": 16
        }
      ]
    },
    {
      "cell_type": "code",
      "metadata": {
        "id": "cDsL05lIQxtz",
        "colab_type": "code",
        "colab": {
          "base_uri": "https://localhost:8080/",
          "height": 369
        },
        "outputId": "f2fa8294-e26e-403b-ddc5-74eadd88583c"
      },
      "source": [
        "graphs.countplots(df = pulsar, columns = [\"target_class\"], titles  = [\"Distribution Of Star Types\"], ylabel  = \"Count\", labels  = [\"Type\"], dim = (10,5), row = 1,col = 1)"
      ],
      "execution_count": 17,
      "outputs": [
        {
          "output_type": "display_data",
          "data": {
            "image/png": "[encoded data removed]",
            "text/plain": [
              "<Figure size 720x360 with 1 Axes>"
            ]
          },
          "metadata": {
            "tags": []
          }
        }
      ]
    },
    {
      "cell_type": "code",
      "metadata": {
        "id": "vAhwS1ePRi9B",
        "colab_type": "code",
        "colab": {}
      },
      "source": [
        "# Feature Engineering\n",
        "\n",
        "# Squaring the `mean_ip` column\n",
        "\n",
        "pulsar[\"mean_ip_squared\"] = pulsar[\"mean_ip\"].apply(lambda x: x**2)\n",
        "\n",
        "# Squaring the `sd_ip` column\n",
        "\n",
        "pulsar[\"sd_ip_squared\"]   = pulsar[\"sd_ip\"].apply(lambda x: x**2)"
      ],
      "execution_count": 0,
      "outputs": []
    },
    {
      "cell_type": "code",
      "metadata": {
        "id": "PNG3s0vrRoqc",
        "colab_type": "code",
        "colab": {
          "base_uri": "https://localhost:8080/",
          "height": 84
        },
        "outputId": "dd04bbda-bf15-4b7f-fec3-1781bb92b4c3"
      },
      "source": [
        "# Making sure new columns were added\n",
        "\n",
        "pulsar.columns"
      ],
      "execution_count": 19,
      "outputs": [
        {
          "output_type": "execute_result",
          "data": {
            "text/plain": [
              "Index(['mean_ip', 'sd_ip', 'ex_kurt_ip', 'skew_ip', 'mean_dmsnr', 'sd_dmsnr',\n",
              "       'ex_kurt_dmsnr', 'skew_dmsnr', 'target_class', 'mean_ip_squared',\n",
              "       'sd_ip_squared'],\n",
              "      dtype='object')"
            ]
          },
          "metadata": {
            "tags": []
          },
          "execution_count": 19
        }
      ]
    },
    {
      "cell_type": "code",
      "metadata": {
        "id": "P737BYJVRqlT",
        "colab_type": "code",
        "colab": {}
      },
      "source": [
        "X = pulsar.drop(\"target_class\", axis = 1)\n",
        "y = pulsar[\"target_class\"]"
      ],
      "execution_count": 0,
      "outputs": []
    },
    {
      "cell_type": "code",
      "metadata": {
        "id": "LieGFgA6SNv8",
        "colab_type": "code",
        "colab": {}
      },
      "source": [
        "# Scaling the data\n",
        "\n",
        "ss = StandardScaler()\n",
        "X_ss    = ss.fit_transform(X)"
      ],
      "execution_count": 0,
      "outputs": []
    },
    {
      "cell_type": "code",
      "metadata": {
        "id": "CVLiKcD1SSdX",
        "colab_type": "code",
        "colab": {}
      },
      "source": [
        "# TRain Test Split\n",
        "X_train, X_test, y_train, y_test = train_test_split(X_ss, y, random_state = 42, stratify = y)\n"
      ],
      "execution_count": 0,
      "outputs": []
    },
    {
      "cell_type": "code",
      "metadata": {
        "id": "m0dADhCASoiq",
        "colab_type": "code",
        "colab": {
          "base_uri": "https://localhost:8080/",
          "height": 34
        },
        "outputId": "ba39da12-eb35-4ef6-9a88-a99f46d55f9f"
      },
      "source": [
        "# Model Creation\n",
        "input_shape = X_train.shape[1]\n",
        "of_model = Sequential()\n",
        "of_model.add(Dense(6, input_dim = input_shape, activation = \"relu\", kernel_regularizer = regularizers.l2(0.001)))\n",
        "of_model.add(Dense(1, activation = \"sigmoid\", kernel_regularizer = regularizers.l2(0.001)))\n",
        "of_model.compile(loss      = \"binary_crossentropy\", optimizer = \"adam\", metrics   = [\"acc\"])\n",
        "of_model.fit(X_train, y_train, epochs = 150, batch_size = 100, verbose = 0)\n"
      ],
      "execution_count": 26,
      "outputs": [
        {
          "output_type": "execute_result",
          "data": {
            "text/plain": [
              "<keras.callbacks.callbacks.History at 0x7f56f0129d68>"
            ]
          },
          "metadata": {
            "tags": []
          },
          "execution_count": 26
        }
      ]
    },
    {
      "cell_type": "code",
      "metadata": {
        "id": "Qb7XBBl3TBYz",
        "colab_type": "code",
        "colab": {
          "base_uri": "https://localhost:8080/",
          "height": 195
        },
        "outputId": "48f2fd9b-d0c2-497a-ede7-8f8d01b11089"
      },
      "source": [
        "of_train_preds = of_model.predict_classes(X_train, batch_size = 100, verbose = 0).ravel()\n",
        "of_test_preds  = of_model.predict_classes(X_test, batch_size = 100, verbose = 0).ravel()\n",
        "binary_classification_summary(y_train, of_train_preds)"
      ],
      "execution_count": 27,
      "outputs": [
        {
          "output_type": "execute_result",
          "data": {
            "text/html": [
              "<div>\n",
              "<style scoped>\n",
              "    .dataframe tbody tr th:only-of-type {\n",
              "        vertical-align: middle;\n",
              "    }\n",
              "\n",
              "    .dataframe tbody tr th {\n",
              "        vertical-align: top;\n",
              "    }\n",
              "\n",
              "    .dataframe thead th {\n",
              "        text-align: right;\n",
              "    }\n",
              "</style>\n",
              "<table border=\"1\" class=\"dataframe\">\n",
              "  <thead>\n",
              "    <tr style=\"text-align: right;\">\n",
              "      <th></th>\n",
              "      <th>Scores</th>\n",
              "    </tr>\n",
              "  </thead>\n",
              "  <tbody>\n",
              "    <tr>\n",
              "      <th>Accuracy</th>\n",
              "      <td>0.979736</td>\n",
              "    </tr>\n",
              "    <tr>\n",
              "      <th>Sensitivity</th>\n",
              "      <td>0.837266</td>\n",
              "    </tr>\n",
              "    <tr>\n",
              "      <th>Specificity</th>\n",
              "      <td>0.994095</td>\n",
              "    </tr>\n",
              "    <tr>\n",
              "      <th>Matthews Corr. Coef.</th>\n",
              "      <td>0.873785</td>\n",
              "    </tr>\n",
              "    <tr>\n",
              "      <th>AUROC</th>\n",
              "      <td>0.915681</td>\n",
              "    </tr>\n",
              "  </tbody>\n",
              "</table>\n",
              "</div>"
            ],
            "text/plain": [
              "                        Scores\n",
              "Accuracy              0.979736\n",
              "Sensitivity           0.837266\n",
              "Specificity           0.994095\n",
              "Matthews Corr. Coef.  0.873785\n",
              "AUROC                 0.915681"
            ]
          },
          "metadata": {
            "tags": []
          },
          "execution_count": 27
        }
      ]
    },
    {
      "cell_type": "code",
      "metadata": {
        "id": "MxbQx1zzTtn3",
        "colab_type": "code",
        "colab": {
          "base_uri": "https://localhost:8080/",
          "height": 195
        },
        "outputId": "137941f9-4023-4981-a6b1-6945e1d12137"
      },
      "source": [
        "binary_classification_summary(y_test, of_test_preds)"
      ],
      "execution_count": 28,
      "outputs": [
        {
          "output_type": "execute_result",
          "data": {
            "text/html": [
              "<div>\n",
              "<style scoped>\n",
              "    .dataframe tbody tr th:only-of-type {\n",
              "        vertical-align: middle;\n",
              "    }\n",
              "\n",
              "    .dataframe tbody tr th {\n",
              "        vertical-align: top;\n",
              "    }\n",
              "\n",
              "    .dataframe thead th {\n",
              "        text-align: right;\n",
              "    }\n",
              "</style>\n",
              "<table border=\"1\" class=\"dataframe\">\n",
              "  <thead>\n",
              "    <tr style=\"text-align: right;\">\n",
              "      <th></th>\n",
              "      <th>Scores</th>\n",
              "    </tr>\n",
              "  </thead>\n",
              "  <tbody>\n",
              "    <tr>\n",
              "      <th>Accuracy</th>\n",
              "      <td>0.979888</td>\n",
              "    </tr>\n",
              "    <tr>\n",
              "      <th>Sensitivity</th>\n",
              "      <td>0.839024</td>\n",
              "    </tr>\n",
              "    <tr>\n",
              "      <th>Specificity</th>\n",
              "      <td>0.994096</td>\n",
              "    </tr>\n",
              "    <tr>\n",
              "      <th>Matthews Corr. Coef.</th>\n",
              "      <td>0.874870</td>\n",
              "    </tr>\n",
              "    <tr>\n",
              "      <th>AUROC</th>\n",
              "      <td>0.916560</td>\n",
              "    </tr>\n",
              "  </tbody>\n",
              "</table>\n",
              "</div>"
            ],
            "text/plain": [
              "                        Scores\n",
              "Accuracy              0.979888\n",
              "Sensitivity           0.839024\n",
              "Specificity           0.994096\n",
              "Matthews Corr. Coef.  0.874870\n",
              "AUROC                 0.916560"
            ]
          },
          "metadata": {
            "tags": []
          },
          "execution_count": 28
        }
      ]
    },
    {
      "cell_type": "code",
      "metadata": {
        "id": "U1aKrX2ST2JD",
        "colab_type": "code",
        "colab": {
          "base_uri": "https://localhost:8080/",
          "height": 67
        },
        "outputId": "29d51580-4952-48c0-95cc-a1ed2ae9418d"
      },
      "source": [
        "y_test.value_counts()"
      ],
      "execution_count": 29,
      "outputs": [
        {
          "output_type": "execute_result",
          "data": {
            "text/plain": [
              "0    4065\n",
              "1     410\n",
              "Name: target_class, dtype: int64"
            ]
          },
          "metadata": {
            "tags": []
          },
          "execution_count": 29
        }
      ]
    },
    {
      "cell_type": "code",
      "metadata": {
        "id": "HsXLzlnFT6pf",
        "colab_type": "code",
        "colab": {
          "base_uri": "https://localhost:8080/",
          "height": 106
        },
        "outputId": "b7118e1a-08d4-4e7a-8059-c632b9033201"
      },
      "source": [
        "confusion_matrix_dataframe(y_test, of_test_preds, columns = [\"Predicted Non-Pulsar\", \"Predicted Pulsar\"], index   = [\"Actual Non-Pulsar\", \"Actual Pulsar\"])"
      ],
      "execution_count": 30,
      "outputs": [
        {
          "output_type": "execute_result",
          "data": {
            "text/html": [
              "<div>\n",
              "<style scoped>\n",
              "    .dataframe tbody tr th:only-of-type {\n",
              "        vertical-align: middle;\n",
              "    }\n",
              "\n",
              "    .dataframe tbody tr th {\n",
              "        vertical-align: top;\n",
              "    }\n",
              "\n",
              "    .dataframe thead th {\n",
              "        text-align: right;\n",
              "    }\n",
              "</style>\n",
              "<table border=\"1\" class=\"dataframe\">\n",
              "  <thead>\n",
              "    <tr style=\"text-align: right;\">\n",
              "      <th></th>\n",
              "      <th>Predicted Non-Pulsar</th>\n",
              "      <th>Predicted Pulsar</th>\n",
              "    </tr>\n",
              "  </thead>\n",
              "  <tbody>\n",
              "    <tr>\n",
              "      <th>Actual Non-Pulsar</th>\n",
              "      <td>4041</td>\n",
              "      <td>24</td>\n",
              "    </tr>\n",
              "    <tr>\n",
              "      <th>Actual Pulsar</th>\n",
              "      <td>66</td>\n",
              "      <td>344</td>\n",
              "    </tr>\n",
              "  </tbody>\n",
              "</table>\n",
              "</div>"
            ],
            "text/plain": [
              "                   Predicted Non-Pulsar  Predicted Pulsar\n",
              "Actual Non-Pulsar                  4041                24\n",
              "Actual Pulsar                        66               344"
            ]
          },
          "metadata": {
            "tags": []
          },
          "execution_count": 30
        }
      ]
    },
    {
      "cell_type": "code",
      "metadata": {
        "id": "0D9taMhHT9Bd",
        "colab_type": "code",
        "colab": {
          "base_uri": "https://localhost:8080/",
          "height": 585
        },
        "outputId": "76dbe771-e6aa-43ac-9fba-5d2b9b3142d6"
      },
      "source": [
        "graphs.roc_curve(model_prob  = of_model,\n",
        "                 X_test = X_test,\n",
        "                 y_test  = y_test,\n",
        "                 y_predicted = of_test_preds,\n",
        "                 title = \"ROC For A Neural Network\",\n",
        "                 dim = (14,8))"
      ],
      "execution_count": 31,
      "outputs": [
        {
          "output_type": "display_data",
          "data": {
            "image/png": "[encoded data removed]",
            "text/plain": [
              "<Figure size 1008x576 with 1 Axes>"
            ]
          },
          "metadata": {
            "tags": []
          }
        }
      ]
    },
    {
      "cell_type": "code",
      "metadata": {
        "id": "8cGhBapoUr3w",
        "colab_type": "code",
        "colab": {}
      },
      "source": [
        "# Very good results were observed across the board, but our best model is the model with the interaction features because\n",
        "# it has both the best metric scores and the highest ROC-AUC score.\n",
        "\n",
        "# The ROC curve is a representation of the relationship between the true positives and the false positives.\n",
        "\n",
        "# The low score indicates that the model is good at predicting the two classes, which we also saw from the confusion matrices. \n",
        "# In an ideal world, we would have perfect 90º angle but ours is _extremely_ close to that which indicates our classes are significantly distinct."
      ],
      "execution_count": 0,
      "outputs": []
    },
    {
      "cell_type": "code",
      "metadata": {
        "id": "cleeEc4-UynY",
        "colab_type": "code",
        "colab": {}
      },
      "source": [
        ""
      ],
      "execution_count": 0,
      "outputs": []
    }
  ]
}